{
 "cells": [
  {
   "attachments": {},
   "cell_type": "markdown",
   "metadata": {},
   "source": [
    "# Long-Short Term Memory Neural Networks for Time Series Forecasting."
   ]
  },
  {
   "cell_type": "code",
   "execution_count": 252,
   "metadata": {},
   "outputs": [],
   "source": [
    "import numpy as np\n",
    "import pandas as pd\n",
    "import torch\n",
    "import torch.nn as nn\n",
    "from torch.utils.data import Dataset, DataLoader\n",
    "import metalib as mtl\n",
    "import MetaTrader5 as mt5\n",
    "import mplfinance as mpl\n",
    "import matplotlib.pyplot as plt\n",
    "import ta\n",
    "from tqdm import tqdm\n"
   ]
  },
  {
   "attachments": {},
   "cell_type": "markdown",
   "metadata": {},
   "source": [
    "## Data extraction\n",
    "\n",
    "we would try to predict the OHLC prices of the USDJPY instrument for the next 8 hours using the previous 250 hours sequence, training the model with the past 5000 hours."
   ]
  },
  {
   "cell_type": "code",
   "execution_count": 253,
   "metadata": {},
   "outputs": [
    {
     "name": "stdout",
     "output_type": "stream",
     "text": [
      "training data shape:  (5000, 5)\n",
      "unseen data shape:  (250, 5)\n"
     ]
    }
   ],
   "source": [
    "future = 9\n",
    "past = 5000\n",
    "unseen_ticks = 250\n",
    "INSTRUMENT = 'USDJPY'\n",
    "TIME_FRAME = 'H1'\n",
    "data = mtl.get_nbars(INSTRUMENT, TIME_FRAME, unseen_ticks, past).drop(['spread','real_volume'], axis=1).set_index('time')\n",
    "unseen_data = mtl.get_nbars(INSTRUMENT, TIME_FRAME, 0, unseen_ticks).drop(['spread','real_volume'], axis=1).set_index('time')\n",
    "\n",
    "print('training data shape: ', data.shape)\n",
    "print('unseen data shape: ', unseen_data.shape)"
   ]
  },
  {
   "cell_type": "code",
   "execution_count": 254,
   "metadata": {},
   "outputs": [
    {
     "data": {
      "text/html": [
       "<div>\n",
       "<style scoped>\n",
       "    .dataframe tbody tr th:only-of-type {\n",
       "        vertical-align: middle;\n",
       "    }\n",
       "\n",
       "    .dataframe tbody tr th {\n",
       "        vertical-align: top;\n",
       "    }\n",
       "\n",
       "    .dataframe thead th {\n",
       "        text-align: right;\n",
       "    }\n",
       "</style>\n",
       "<table border=\"1\" class=\"dataframe\">\n",
       "  <thead>\n",
       "    <tr style=\"text-align: right;\">\n",
       "      <th></th>\n",
       "      <th>open</th>\n",
       "      <th>high</th>\n",
       "      <th>low</th>\n",
       "      <th>close</th>\n",
       "      <th>tick_volume</th>\n",
       "    </tr>\n",
       "    <tr>\n",
       "      <th>time</th>\n",
       "      <th></th>\n",
       "      <th></th>\n",
       "      <th></th>\n",
       "      <th></th>\n",
       "      <th></th>\n",
       "    </tr>\n",
       "  </thead>\n",
       "  <tbody>\n",
       "    <tr>\n",
       "      <th>2023-03-30 18:00:00</th>\n",
       "      <td>132.700</td>\n",
       "      <td>132.754</td>\n",
       "      <td>132.590</td>\n",
       "      <td>132.713</td>\n",
       "      <td>6134</td>\n",
       "    </tr>\n",
       "    <tr>\n",
       "      <th>2023-03-30 19:00:00</th>\n",
       "      <td>132.712</td>\n",
       "      <td>132.713</td>\n",
       "      <td>132.362</td>\n",
       "      <td>132.387</td>\n",
       "      <td>4475</td>\n",
       "    </tr>\n",
       "    <tr>\n",
       "      <th>2023-03-30 20:00:00</th>\n",
       "      <td>132.386</td>\n",
       "      <td>132.467</td>\n",
       "      <td>132.319</td>\n",
       "      <td>132.435</td>\n",
       "      <td>4414</td>\n",
       "    </tr>\n",
       "    <tr>\n",
       "      <th>2023-03-30 21:00:00</th>\n",
       "      <td>132.435</td>\n",
       "      <td>132.470</td>\n",
       "      <td>132.393</td>\n",
       "      <td>132.446</td>\n",
       "      <td>3703</td>\n",
       "    </tr>\n",
       "    <tr>\n",
       "      <th>2023-03-30 22:00:00</th>\n",
       "      <td>132.445</td>\n",
       "      <td>132.625</td>\n",
       "      <td>132.422</td>\n",
       "      <td>132.612</td>\n",
       "      <td>2186</td>\n",
       "    </tr>\n",
       "  </tbody>\n",
       "</table>\n",
       "</div>"
      ],
      "text/plain": [
       "                        open     high      low    close  tick_volume\n",
       "time                                                                \n",
       "2023-03-30 18:00:00  132.700  132.754  132.590  132.713         6134\n",
       "2023-03-30 19:00:00  132.712  132.713  132.362  132.387         4475\n",
       "2023-03-30 20:00:00  132.386  132.467  132.319  132.435         4414\n",
       "2023-03-30 21:00:00  132.435  132.470  132.393  132.446         3703\n",
       "2023-03-30 22:00:00  132.445  132.625  132.422  132.612         2186"
      ]
     },
     "execution_count": 254,
     "metadata": {},
     "output_type": "execute_result"
    }
   ],
   "source": [
    "data.tail()"
   ]
  },
  {
   "cell_type": "code",
   "execution_count": 178,
   "metadata": {},
   "outputs": [
    {
     "data": {
      "text/html": [
       "<div>\n",
       "<style scoped>\n",
       "    .dataframe tbody tr th:only-of-type {\n",
       "        vertical-align: middle;\n",
       "    }\n",
       "\n",
       "    .dataframe tbody tr th {\n",
       "        vertical-align: top;\n",
       "    }\n",
       "\n",
       "    .dataframe thead th {\n",
       "        text-align: right;\n",
       "    }\n",
       "</style>\n",
       "<table border=\"1\" class=\"dataframe\">\n",
       "  <thead>\n",
       "    <tr style=\"text-align: right;\">\n",
       "      <th></th>\n",
       "      <th>open</th>\n",
       "      <th>high</th>\n",
       "      <th>low</th>\n",
       "      <th>close</th>\n",
       "      <th>tick_volume</th>\n",
       "    </tr>\n",
       "    <tr>\n",
       "      <th>time</th>\n",
       "      <th></th>\n",
       "      <th></th>\n",
       "      <th></th>\n",
       "      <th></th>\n",
       "      <th></th>\n",
       "    </tr>\n",
       "  </thead>\n",
       "  <tbody>\n",
       "    <tr>\n",
       "      <th>2023-03-30 17:00:00</th>\n",
       "      <td>132.675</td>\n",
       "      <td>132.889</td>\n",
       "      <td>132.614</td>\n",
       "      <td>132.700</td>\n",
       "      <td>6794</td>\n",
       "    </tr>\n",
       "    <tr>\n",
       "      <th>2023-03-30 18:00:00</th>\n",
       "      <td>132.700</td>\n",
       "      <td>132.754</td>\n",
       "      <td>132.590</td>\n",
       "      <td>132.713</td>\n",
       "      <td>6134</td>\n",
       "    </tr>\n",
       "    <tr>\n",
       "      <th>2023-03-30 19:00:00</th>\n",
       "      <td>132.712</td>\n",
       "      <td>132.713</td>\n",
       "      <td>132.362</td>\n",
       "      <td>132.387</td>\n",
       "      <td>4475</td>\n",
       "    </tr>\n",
       "    <tr>\n",
       "      <th>2023-03-30 20:00:00</th>\n",
       "      <td>132.386</td>\n",
       "      <td>132.467</td>\n",
       "      <td>132.319</td>\n",
       "      <td>132.435</td>\n",
       "      <td>4414</td>\n",
       "    </tr>\n",
       "    <tr>\n",
       "      <th>2023-03-30 21:00:00</th>\n",
       "      <td>132.435</td>\n",
       "      <td>132.470</td>\n",
       "      <td>132.393</td>\n",
       "      <td>132.446</td>\n",
       "      <td>3703</td>\n",
       "    </tr>\n",
       "    <tr>\n",
       "      <th>...</th>\n",
       "      <td>...</td>\n",
       "      <td>...</td>\n",
       "      <td>...</td>\n",
       "      <td>...</td>\n",
       "      <td>...</td>\n",
       "    </tr>\n",
       "    <tr>\n",
       "      <th>2023-04-13 22:00:00</th>\n",
       "      <td>132.761</td>\n",
       "      <td>132.782</td>\n",
       "      <td>132.704</td>\n",
       "      <td>132.727</td>\n",
       "      <td>2092</td>\n",
       "    </tr>\n",
       "    <tr>\n",
       "      <th>2023-04-13 23:00:00</th>\n",
       "      <td>132.727</td>\n",
       "      <td>132.744</td>\n",
       "      <td>132.568</td>\n",
       "      <td>132.570</td>\n",
       "      <td>1665</td>\n",
       "    </tr>\n",
       "    <tr>\n",
       "      <th>2023-04-14 00:00:00</th>\n",
       "      <td>132.564</td>\n",
       "      <td>132.572</td>\n",
       "      <td>132.480</td>\n",
       "      <td>132.563</td>\n",
       "      <td>1235</td>\n",
       "    </tr>\n",
       "    <tr>\n",
       "      <th>2023-04-14 01:00:00</th>\n",
       "      <td>132.562</td>\n",
       "      <td>132.609</td>\n",
       "      <td>132.521</td>\n",
       "      <td>132.584</td>\n",
       "      <td>1832</td>\n",
       "    </tr>\n",
       "    <tr>\n",
       "      <th>2023-04-14 02:00:00</th>\n",
       "      <td>132.583</td>\n",
       "      <td>132.592</td>\n",
       "      <td>132.550</td>\n",
       "      <td>132.567</td>\n",
       "      <td>592</td>\n",
       "    </tr>\n",
       "  </tbody>\n",
       "</table>\n",
       "<p>250 rows × 5 columns</p>\n",
       "</div>"
      ],
      "text/plain": [
       "                        open     high      low    close  tick_volume\n",
       "time                                                                \n",
       "2023-03-30 17:00:00  132.675  132.889  132.614  132.700         6794\n",
       "2023-03-30 18:00:00  132.700  132.754  132.590  132.713         6134\n",
       "2023-03-30 19:00:00  132.712  132.713  132.362  132.387         4475\n",
       "2023-03-30 20:00:00  132.386  132.467  132.319  132.435         4414\n",
       "2023-03-30 21:00:00  132.435  132.470  132.393  132.446         3703\n",
       "...                      ...      ...      ...      ...          ...\n",
       "2023-04-13 22:00:00  132.761  132.782  132.704  132.727         2092\n",
       "2023-04-13 23:00:00  132.727  132.744  132.568  132.570         1665\n",
       "2023-04-14 00:00:00  132.564  132.572  132.480  132.563         1235\n",
       "2023-04-14 01:00:00  132.562  132.609  132.521  132.584         1832\n",
       "2023-04-14 02:00:00  132.583  132.592  132.550  132.567          592\n",
       "\n",
       "[250 rows x 5 columns]"
      ]
     },
     "execution_count": 178,
     "metadata": {},
     "output_type": "execute_result"
    }
   ],
   "source": [
    "unseen_data"
   ]
  },
  {
   "attachments": {},
   "cell_type": "markdown",
   "metadata": {},
   "source": [
    "### Data Visualization:\n",
    "\n",
    "the red candles are the ticks to predict meanwhile the black and withe ones are the data used for training:"
   ]
  },
  {
   "cell_type": "code",
   "execution_count": 179,
   "metadata": {},
   "outputs": [
    {
     "name": "stderr",
     "output_type": "stream",
     "text": [
      "c:\\projects\\MLworkspace\\lib\\site-packages\\mplfinance\\_arg_validators.py:83: UserWarning: \n",
      "\n",
      " ================================================================= \n",
      "\n",
      "   WARNING: YOU ARE PLOTTING SO MUCH DATA THAT IT MAY NOT BE\n",
      "            POSSIBLE TO SEE DETAILS (Candles, Ohlc-Bars, Etc.)\n",
      "   For more information see:\n",
      "   - https://github.com/matplotlib/mplfinance/wiki/Plotting-Too-Much-Data\n",
      "   \n",
      "   TO SILENCE THIS WARNING, set `type='line'` in `mpf.plot()`\n",
      "   OR set kwarg `warn_too_much_data=N` where N is an integer \n",
      "   LARGER than the number of data points you want to plot.\n",
      "\n",
      " ================================================================ \n",
      "  warnings.warn('\\n\\n ================================================================= '+\n"
     ]
    },
    {
     "data": {
      "image/png": "[encoded data removed]",
      "text/plain": [
       "<Figure size 800x575 with 2 Axes>"
      ]
     },
     "metadata": {},
     "output_type": "display_data"
    }
   ],
   "source": [
    "\n",
    "# plt.plot(data.time, data.close, label='training data')\n",
    "# plt.plot(unseen_data.time, unseen_data.close, label='unseen data')\n",
    "# plt.legend()\n",
    "\n",
    "#creating a nan array to match both dataframes shape:\n",
    "plot_ticks = 500\n",
    "nan_array = np.zeros((plot_ticks, 5))\n",
    "nan_array[:] = np.nan\n",
    "pd.concat((pd.DataFrame(nan_array, columns=data.columns, index=data.index[-plot_ticks:]), unseen_data))\n",
    "\n",
    "mc = mpl.make_marketcolors(up='red',down='red', edge='black')\n",
    "s  = mpl.make_mpf_style(marketcolors=mc)\n",
    "\n",
    "fig, axlist = mpl.plot(data[['open','close','high','low']][-plot_ticks:], #plotting the last 100 values since 5000 ticks are too much data.data[['open','close','high','low']][-100:]\n",
    "                       type='candle',\n",
    "                       returnfig = True)\n",
    "mpl.plot(pd.concat((pd.DataFrame(nan_array, columns=data.columns, index=data.index[-plot_ticks:]), unseen_data))[['open','close','high','low']],\n",
    "          type='candle',\n",
    "          ax=axlist[0],\n",
    "          style = s)\n"
   ]
  },
  {
   "attachments": {},
   "cell_type": "markdown",
   "metadata": {},
   "source": [
    "## Data preprocessing and feature engineering:\n",
    "\n",
    "We will use the next features:\n",
    "- Open, High, Low, and Close prices\n",
    "- trend indicators:\n",
    "    - Detrended prices oscilator (DPOIndicator)\n",
    "    - Mass Index\n",
    "    - TRIX indicator\n",
    "    - Vortex Indicator\n",
    "- volume indicators:\n",
    "    - Chaikin money flow\n",
    "    - Volume-price trend\n",
    "    - Force Index\n"
   ]
  },
  {
   "cell_type": "code",
   "execution_count": 195,
   "metadata": {},
   "outputs": [
    {
     "name": "stdout",
     "output_type": "stream",
     "text": [
      "data shape:  (5000, 14)\n",
      "unseen data shape:  (250, 14)\n"
     ]
    }
   ],
   "source": [
    "\n",
    "\n",
    "#Detrended price oscilator:\n",
    "data['DPOIndicator'] = ta.trend.DPOIndicator(data.close, window=21,fillna=True).dpo()\n",
    "unseen_data['DPOIndicator'] = ta.trend.DPOIndicator(unseen_data.close, window=21,fillna=True).dpo()\n",
    "\n",
    "# #Mass_index oscilator\n",
    "# data['mass_index'] = ta.trend.MassIndex(data.high, data.low, window_fast=21,fillna=True).mass_index()\n",
    "# unseen_data['mass_index'] = ta.trend.MassIndex(unseen_data.high, unseen_data.low,fillna=True).mass_index()\n",
    "\n",
    "# # TRIX_indicator:\n",
    "# data['TRIX_indicator'] = ta.trend.TRIXIndicator(data.close, fillna=True).trix()\n",
    "# unseen_data['TRIX_indicator'] = ta.trend.TRIXIndicator(unseen_data.close, fillna=True).trix()\n",
    "\n",
    "#Vortex_indicator\n",
    "data['vortex_indicator_diff'] = ta.trend.VortexIndicator(data.high, data.low, data.close, fillna=True).vortex_indicator_diff()\n",
    "data['vortex_indicator_neg'] = ta.trend.VortexIndicator(data.high, data.low, data.close, fillna=True).vortex_indicator_neg()\n",
    "data['vortex_indicator_pos'] = ta.trend.VortexIndicator(data.high, data.low, data.close, fillna=True).vortex_indicator_pos()\n",
    "\n",
    "unseen_data['vortex_indicator_diff'] = ta.trend.VortexIndicator(unseen_data.high, unseen_data.low, unseen_data.close, fillna=True).vortex_indicator_diff()\n",
    "unseen_data['vortex_indicator_neg'] = ta.trend.VortexIndicator(unseen_data.high, unseen_data.low, unseen_data.close, fillna=True).vortex_indicator_neg()\n",
    "unseen_data['vortex_indicator_pos'] = ta.trend.VortexIndicator(unseen_data.high, unseen_data.low, unseen_data.close, fillna=True).vortex_indicator_pos()\n",
    "\n",
    "# #Chaikin money flow\n",
    "# data['chaikin_money_flux'] = ta.volume.ChaikinMoneyFlowIndicator(data.high, data.low, data.close, data.tick_volume, fillna=True).chaikin_money_flow()\n",
    "# unseen_data['chaikin_money_flux'] = ta.volume.ChaikinMoneyFlowIndicator(unseen_data.high, unseen_data.low, unseen_data.close, unseen_data.tick_volume, fillna=True).chaikin_money_flow()\n",
    "\n",
    "# #Volume price trend:\n",
    "# data['volume_price_trend'] = ta.volume.VolumePriceTrendIndicator(data.close, data.tick_volume, fillna=True).volume_price_trend()\n",
    "# unseen_data['volume_price_trend'] = ta.volume.VolumePriceTrendIndicator(unseen_data.close, unseen_data.tick_volume, fillna=True).volume_price_trend()\n",
    "\n",
    "# #force index \n",
    "# data['force_index'] = ta.volume.ForceIndexIndicator(data.close, data.tick_volume, fillna=True).force_index()\n",
    "# unseen_data['force_index'] = ta.volume.ForceIndexIndicator(unseen_data.close, unseen_data.tick_volume, fillna=True).force_index()\n",
    "\n",
    "# data['close_shifted_1'] = data.close.shift(1)\n",
    "# data['close_shifted_2'] = data.close.shift(2)\n",
    "# data['close_shifted_3'] = data.close.shift(3)\n",
    "# data['close_diff_1'] = data.close - data.close_shifted_1\n",
    "# data['close_diff_2'] = data.close - data.close_shifted_2\n",
    "# data['close_diff_3'] = data.close - data.close_shifted_3\n",
    "\n",
    "# unseen_data['close_shifted_1'] = unseen_data.close.shift(1)\n",
    "# unseen_data['close_shifted_2'] = unseen_data.close.shift(2)\n",
    "# unseen_data['close_shifted_3'] = unseen_data.close.shift(3)\n",
    "# unseen_data['close_diff_1'] = unseen_data.close - unseen_data.close_shifted_1\n",
    "# unseen_data['close_diff_2'] = unseen_data.close - unseen_data.close_shifted_2\n",
    "# unseen_data['close_diff_3'] = unseen_data.close - unseen_data.close_shifted_3\n",
    "\n",
    "data['week_day'] = data.index.dayofweek\n",
    "data['month_day'] = data.index.day\n",
    "data['week_of_year'] = data.index.quarter\n",
    "data['month'] = data.index.month\n",
    "data['hour'] = data.index.hour\n",
    "# data['open_close_diff'] = data.close - data.open\n",
    "# data['high_low_diff'] = np.abs(data.high - data.low)\n",
    "\n",
    "unseen_data['week_day'] = unseen_data.index.weekday\n",
    "unseen_data['month_day'] = unseen_data.index.day\n",
    "unseen_data['week_of_year'] = unseen_data.index.quarter\n",
    "unseen_data['month'] = unseen_data.index.month\n",
    "unseen_data['hour'] = unseen_data.index.hour\n",
    "# unseen_data['open_close_diff'] = unseen_data.close - unseen_data.open\n",
    "# unseen_data['high_low_diff'] = unseen_data.high - unseen_data.low\n",
    "\n",
    "\n",
    "#data.drop(columns='tick_volume',inplace=True)\n",
    "#unseen_data.drop(columns='tick_volume',inplace=True)\n",
    "\n",
    "# data.drop(index=data.index[0],inplace=True)\n",
    "# unseen_data.drop(index=unseen_data.index[0],inplace=True)\n",
    "\n",
    "print('data shape: ', data.shape)\n",
    "print('unseen data shape: ', unseen_data.shape)"
   ]
  },
  {
   "cell_type": "code",
   "execution_count": 196,
   "metadata": {},
   "outputs": [
    {
     "data": {
      "text/html": [
       "<div>\n",
       "<style scoped>\n",
       "    .dataframe tbody tr th:only-of-type {\n",
       "        vertical-align: middle;\n",
       "    }\n",
       "\n",
       "    .dataframe tbody tr th {\n",
       "        vertical-align: top;\n",
       "    }\n",
       "\n",
       "    .dataframe thead th {\n",
       "        text-align: right;\n",
       "    }\n",
       "</style>\n",
       "<table border=\"1\" class=\"dataframe\">\n",
       "  <thead>\n",
       "    <tr style=\"text-align: right;\">\n",
       "      <th></th>\n",
       "      <th>open</th>\n",
       "      <th>high</th>\n",
       "      <th>low</th>\n",
       "      <th>close</th>\n",
       "      <th>tick_volume</th>\n",
       "      <th>DPOIndicator</th>\n",
       "      <th>vortex_indicator_diff</th>\n",
       "      <th>vortex_indicator_neg</th>\n",
       "      <th>vortex_indicator_pos</th>\n",
       "      <th>week_day</th>\n",
       "      <th>month_day</th>\n",
       "      <th>week_of_year</th>\n",
       "      <th>month</th>\n",
       "      <th>hour</th>\n",
       "    </tr>\n",
       "    <tr>\n",
       "      <th>time</th>\n",
       "      <th></th>\n",
       "      <th></th>\n",
       "      <th></th>\n",
       "      <th></th>\n",
       "      <th></th>\n",
       "      <th></th>\n",
       "      <th></th>\n",
       "      <th></th>\n",
       "      <th></th>\n",
       "      <th></th>\n",
       "      <th></th>\n",
       "      <th></th>\n",
       "      <th></th>\n",
       "      <th></th>\n",
       "    </tr>\n",
       "  </thead>\n",
       "  <tbody>\n",
       "    <tr>\n",
       "      <th>2022-06-10 14:00:00</th>\n",
       "      <td>-0.632552</td>\n",
       "      <td>-0.617091</td>\n",
       "      <td>-0.616813</td>\n",
       "      <td>-0.599435</td>\n",
       "      <td>-0.239436</td>\n",
       "      <td>0.599435</td>\n",
       "      <td>0.000000</td>\n",
       "      <td>0.000000</td>\n",
       "      <td>0.000000</td>\n",
       "      <td>4</td>\n",
       "      <td>10</td>\n",
       "      <td>2</td>\n",
       "      <td>6</td>\n",
       "      <td>14</td>\n",
       "    </tr>\n",
       "    <tr>\n",
       "      <th>2022-06-10 15:00:00</th>\n",
       "      <td>-0.599014</td>\n",
       "      <td>-0.545684</td>\n",
       "      <td>-0.652177</td>\n",
       "      <td>-0.599068</td>\n",
       "      <td>1.786736</td>\n",
       "      <td>0.599251</td>\n",
       "      <td>0.049814</td>\n",
       "      <td>0.048488</td>\n",
       "      <td>0.098302</td>\n",
       "      <td>4</td>\n",
       "      <td>10</td>\n",
       "      <td>2</td>\n",
       "      <td>6</td>\n",
       "      <td>15</td>\n",
       "    </tr>\n",
       "    <tr>\n",
       "      <th>2022-06-10 16:00:00</th>\n",
       "      <td>-0.597914</td>\n",
       "      <td>-0.564040</td>\n",
       "      <td>-0.607652</td>\n",
       "      <td>-0.547018</td>\n",
       "      <td>2.301713</td>\n",
       "      <td>0.581840</td>\n",
       "      <td>0.081091</td>\n",
       "      <td>0.126504</td>\n",
       "      <td>0.207595</td>\n",
       "      <td>4</td>\n",
       "      <td>10</td>\n",
       "      <td>2</td>\n",
       "      <td>6</td>\n",
       "      <td>16</td>\n",
       "    </tr>\n",
       "    <tr>\n",
       "      <th>2022-06-10 17:00:00</th>\n",
       "      <td>-0.545316</td>\n",
       "      <td>-0.566794</td>\n",
       "      <td>-0.582366</td>\n",
       "      <td>-0.547568</td>\n",
       "      <td>1.425061</td>\n",
       "      <td>0.573272</td>\n",
       "      <td>0.105595</td>\n",
       "      <td>0.143767</td>\n",
       "      <td>0.249362</td>\n",
       "      <td>4</td>\n",
       "      <td>10</td>\n",
       "      <td>2</td>\n",
       "      <td>6</td>\n",
       "      <td>17</td>\n",
       "    </tr>\n",
       "    <tr>\n",
       "      <th>2022-06-10 18:00:00</th>\n",
       "      <td>-0.547332</td>\n",
       "      <td>-0.571016</td>\n",
       "      <td>-0.544438</td>\n",
       "      <td>-0.554533</td>\n",
       "      <td>0.300843</td>\n",
       "      <td>0.569524</td>\n",
       "      <td>0.089273</td>\n",
       "      <td>0.166752</td>\n",
       "      <td>0.256025</td>\n",
       "      <td>4</td>\n",
       "      <td>10</td>\n",
       "      <td>2</td>\n",
       "      <td>6</td>\n",
       "      <td>18</td>\n",
       "    </tr>\n",
       "  </tbody>\n",
       "</table>\n",
       "</div>"
      ],
      "text/plain": [
       "                         open      high       low     close  tick_volume   \n",
       "time                                                                       \n",
       "2022-06-10 14:00:00 -0.632552 -0.617091 -0.616813 -0.599435    -0.239436  \\\n",
       "2022-06-10 15:00:00 -0.599014 -0.545684 -0.652177 -0.599068     1.786736   \n",
       "2022-06-10 16:00:00 -0.597914 -0.564040 -0.607652 -0.547018     2.301713   \n",
       "2022-06-10 17:00:00 -0.545316 -0.566794 -0.582366 -0.547568     1.425061   \n",
       "2022-06-10 18:00:00 -0.547332 -0.571016 -0.544438 -0.554533     0.300843   \n",
       "\n",
       "                     DPOIndicator  vortex_indicator_diff   \n",
       "time                                                       \n",
       "2022-06-10 14:00:00      0.599435               0.000000  \\\n",
       "2022-06-10 15:00:00      0.599251               0.049814   \n",
       "2022-06-10 16:00:00      0.581840               0.081091   \n",
       "2022-06-10 17:00:00      0.573272               0.105595   \n",
       "2022-06-10 18:00:00      0.569524               0.089273   \n",
       "\n",
       "                     vortex_indicator_neg  vortex_indicator_pos  week_day   \n",
       "time                                                                        \n",
       "2022-06-10 14:00:00              0.000000              0.000000         4  \\\n",
       "2022-06-10 15:00:00              0.048488              0.098302         4   \n",
       "2022-06-10 16:00:00              0.126504              0.207595         4   \n",
       "2022-06-10 17:00:00              0.143767              0.249362         4   \n",
       "2022-06-10 18:00:00              0.166752              0.256025         4   \n",
       "\n",
       "                     month_day  week_of_year  month  hour  \n",
       "time                                                       \n",
       "2022-06-10 14:00:00         10             2      6    14  \n",
       "2022-06-10 15:00:00         10             2      6    15  \n",
       "2022-06-10 16:00:00         10             2      6    16  \n",
       "2022-06-10 17:00:00         10             2      6    17  \n",
       "2022-06-10 18:00:00         10             2      6    18  "
      ]
     },
     "execution_count": 196,
     "metadata": {},
     "output_type": "execute_result"
    }
   ],
   "source": [
    "data.head()"
   ]
  },
  {
   "cell_type": "code",
   "execution_count": 197,
   "metadata": {},
   "outputs": [
    {
     "data": {
      "text/html": [
       "<div>\n",
       "<style scoped>\n",
       "    .dataframe tbody tr th:only-of-type {\n",
       "        vertical-align: middle;\n",
       "    }\n",
       "\n",
       "    .dataframe tbody tr th {\n",
       "        vertical-align: top;\n",
       "    }\n",
       "\n",
       "    .dataframe thead th {\n",
       "        text-align: right;\n",
       "    }\n",
       "</style>\n",
       "<table border=\"1\" class=\"dataframe\">\n",
       "  <thead>\n",
       "    <tr style=\"text-align: right;\">\n",
       "      <th></th>\n",
       "      <th>open</th>\n",
       "      <th>high</th>\n",
       "      <th>low</th>\n",
       "      <th>close</th>\n",
       "      <th>tick_volume</th>\n",
       "      <th>DPOIndicator</th>\n",
       "      <th>vortex_indicator_diff</th>\n",
       "      <th>vortex_indicator_neg</th>\n",
       "      <th>vortex_indicator_pos</th>\n",
       "      <th>week_day</th>\n",
       "      <th>month_day</th>\n",
       "      <th>week_of_year</th>\n",
       "      <th>month</th>\n",
       "      <th>hour</th>\n",
       "    </tr>\n",
       "  </thead>\n",
       "  <tbody>\n",
       "    <tr>\n",
       "      <th>count</th>\n",
       "      <td>250.000000</td>\n",
       "      <td>250.00000</td>\n",
       "      <td>250.000000</td>\n",
       "      <td>250.000000</td>\n",
       "      <td>250.000000</td>\n",
       "      <td>250.000000</td>\n",
       "      <td>250.000000</td>\n",
       "      <td>250.000000</td>\n",
       "      <td>250.000000</td>\n",
       "      <td>250.000000</td>\n",
       "      <td>250.000000</td>\n",
       "      <td>250.000000</td>\n",
       "      <td>250.000000</td>\n",
       "      <td>250.000000</td>\n",
       "    </tr>\n",
       "    <tr>\n",
       "      <th>mean</th>\n",
       "      <td>132.591824</td>\n",
       "      <td>132.70284</td>\n",
       "      <td>132.466780</td>\n",
       "      <td>132.590380</td>\n",
       "      <td>6047.260000</td>\n",
       "      <td>0.003346</td>\n",
       "      <td>-0.000365</td>\n",
       "      <td>0.984410</td>\n",
       "      <td>0.984045</td>\n",
       "      <td>2.052000</td>\n",
       "      <td>10.800000</td>\n",
       "      <td>1.876000</td>\n",
       "      <td>3.876000</td>\n",
       "      <td>11.612000</td>\n",
       "    </tr>\n",
       "    <tr>\n",
       "      <th>std</th>\n",
       "      <td>0.805315</td>\n",
       "      <td>0.80469</td>\n",
       "      <td>0.803754</td>\n",
       "      <td>0.803559</td>\n",
       "      <td>3277.563124</td>\n",
       "      <td>0.245905</td>\n",
       "      <td>0.341300</td>\n",
       "      <td>0.183816</td>\n",
       "      <td>0.200830</td>\n",
       "      <td>1.414674</td>\n",
       "      <td>8.225731</td>\n",
       "      <td>0.330243</td>\n",
       "      <td>0.330243</td>\n",
       "      <td>7.046422</td>\n",
       "    </tr>\n",
       "    <tr>\n",
       "      <th>min</th>\n",
       "      <td>130.881000</td>\n",
       "      <td>131.11100</td>\n",
       "      <td>130.629000</td>\n",
       "      <td>130.881000</td>\n",
       "      <td>102.000000</td>\n",
       "      <td>-0.820857</td>\n",
       "      <td>-0.787507</td>\n",
       "      <td>0.000000</td>\n",
       "      <td>0.000000</td>\n",
       "      <td>0.000000</td>\n",
       "      <td>3.000000</td>\n",
       "      <td>1.000000</td>\n",
       "      <td>3.000000</td>\n",
       "      <td>0.000000</td>\n",
       "    </tr>\n",
       "    <tr>\n",
       "      <th>25%</th>\n",
       "      <td>131.780500</td>\n",
       "      <td>131.86175</td>\n",
       "      <td>131.683500</td>\n",
       "      <td>131.784250</td>\n",
       "      <td>3500.500000</td>\n",
       "      <td>-0.130194</td>\n",
       "      <td>-0.259764</td>\n",
       "      <td>0.856119</td>\n",
       "      <td>0.855604</td>\n",
       "      <td>1.000000</td>\n",
       "      <td>5.000000</td>\n",
       "      <td>2.000000</td>\n",
       "      <td>4.000000</td>\n",
       "      <td>5.250000</td>\n",
       "    </tr>\n",
       "    <tr>\n",
       "      <th>50%</th>\n",
       "      <td>132.719500</td>\n",
       "      <td>132.83100</td>\n",
       "      <td>132.590000</td>\n",
       "      <td>132.720000</td>\n",
       "      <td>5913.500000</td>\n",
       "      <td>0.002548</td>\n",
       "      <td>0.000103</td>\n",
       "      <td>0.980317</td>\n",
       "      <td>0.983498</td>\n",
       "      <td>2.000000</td>\n",
       "      <td>10.000000</td>\n",
       "      <td>2.000000</td>\n",
       "      <td>4.000000</td>\n",
       "      <td>12.000000</td>\n",
       "    </tr>\n",
       "    <tr>\n",
       "      <th>75%</th>\n",
       "      <td>133.262250</td>\n",
       "      <td>133.36325</td>\n",
       "      <td>133.116500</td>\n",
       "      <td>133.257500</td>\n",
       "      <td>8303.500000</td>\n",
       "      <td>0.152405</td>\n",
       "      <td>0.248015</td>\n",
       "      <td>1.118117</td>\n",
       "      <td>1.127889</td>\n",
       "      <td>3.000000</td>\n",
       "      <td>12.000000</td>\n",
       "      <td>2.000000</td>\n",
       "      <td>4.000000</td>\n",
       "      <td>18.000000</td>\n",
       "    </tr>\n",
       "    <tr>\n",
       "      <th>max</th>\n",
       "      <td>133.888000</td>\n",
       "      <td>134.04700</td>\n",
       "      <td>133.815000</td>\n",
       "      <td>133.887000</td>\n",
       "      <td>16302.000000</td>\n",
       "      <td>0.699810</td>\n",
       "      <td>0.946261</td>\n",
       "      <td>1.400680</td>\n",
       "      <td>1.484299</td>\n",
       "      <td>4.000000</td>\n",
       "      <td>31.000000</td>\n",
       "      <td>2.000000</td>\n",
       "      <td>4.000000</td>\n",
       "      <td>23.000000</td>\n",
       "    </tr>\n",
       "  </tbody>\n",
       "</table>\n",
       "</div>"
      ],
      "text/plain": [
       "             open       high         low       close   tick_volume   \n",
       "count  250.000000  250.00000  250.000000  250.000000    250.000000  \\\n",
       "mean   132.591824  132.70284  132.466780  132.590380   6047.260000   \n",
       "std      0.805315    0.80469    0.803754    0.803559   3277.563124   \n",
       "min    130.881000  131.11100  130.629000  130.881000    102.000000   \n",
       "25%    131.780500  131.86175  131.683500  131.784250   3500.500000   \n",
       "50%    132.719500  132.83100  132.590000  132.720000   5913.500000   \n",
       "75%    133.262250  133.36325  133.116500  133.257500   8303.500000   \n",
       "max    133.888000  134.04700  133.815000  133.887000  16302.000000   \n",
       "\n",
       "       DPOIndicator  vortex_indicator_diff  vortex_indicator_neg   \n",
       "count    250.000000             250.000000            250.000000  \\\n",
       "mean       0.003346              -0.000365              0.984410   \n",
       "std        0.245905               0.341300              0.183816   \n",
       "min       -0.820857              -0.787507              0.000000   \n",
       "25%       -0.130194              -0.259764              0.856119   \n",
       "50%        0.002548               0.000103              0.980317   \n",
       "75%        0.152405               0.248015              1.118117   \n",
       "max        0.699810               0.946261              1.400680   \n",
       "\n",
       "       vortex_indicator_pos    week_day   month_day  week_of_year       month   \n",
       "count            250.000000  250.000000  250.000000    250.000000  250.000000  \\\n",
       "mean               0.984045    2.052000   10.800000      1.876000    3.876000   \n",
       "std                0.200830    1.414674    8.225731      0.330243    0.330243   \n",
       "min                0.000000    0.000000    3.000000      1.000000    3.000000   \n",
       "25%                0.855604    1.000000    5.000000      2.000000    4.000000   \n",
       "50%                0.983498    2.000000   10.000000      2.000000    4.000000   \n",
       "75%                1.127889    3.000000   12.000000      2.000000    4.000000   \n",
       "max                1.484299    4.000000   31.000000      2.000000    4.000000   \n",
       "\n",
       "             hour  \n",
       "count  250.000000  \n",
       "mean    11.612000  \n",
       "std      7.046422  \n",
       "min      0.000000  \n",
       "25%      5.250000  \n",
       "50%     12.000000  \n",
       "75%     18.000000  \n",
       "max     23.000000  "
      ]
     },
     "execution_count": 197,
     "metadata": {},
     "output_type": "execute_result"
    }
   ],
   "source": [
    "unseen_data.describe()"
   ]
  },
  {
   "cell_type": "code",
   "execution_count": 198,
   "metadata": {},
   "outputs": [
    {
     "data": {
      "text/plain": [
       "open                     float64\n",
       "high                     float64\n",
       "low                      float64\n",
       "close                    float64\n",
       "tick_volume              float64\n",
       "DPOIndicator             float64\n",
       "vortex_indicator_diff    float64\n",
       "vortex_indicator_neg     float64\n",
       "vortex_indicator_pos     float64\n",
       "week_day                   int32\n",
       "month_day                  int32\n",
       "week_of_year               int32\n",
       "month                      int32\n",
       "hour                       int32\n",
       "dtype: object"
      ]
     },
     "execution_count": 198,
     "metadata": {},
     "output_type": "execute_result"
    }
   ],
   "source": [
    "# data.drop('time', axis=1, inplace=True)\n",
    "# data.drop('tick_volume', axis=1, inplace=True)\n",
    "# unseen_data.drop('time', axis=1, inplace=True)\n",
    "# unseen_data.drop('tick_volume', axis=1, inplace=True)\n",
    "data.dtypes"
   ]
  },
  {
   "attachments": {},
   "cell_type": "markdown",
   "metadata": {},
   "source": [
    "### zero mean scaling the dataframes:"
   ]
  },
  {
   "cell_type": "code",
   "execution_count": 199,
   "metadata": {},
   "outputs": [],
   "source": [
    "data_mean = np.mean(data, axis=0)\n",
    "data_std = np.std(data, axis=0)\n",
    "data = (data - data_mean) / data_std\n",
    "\n",
    "# unseen_mean = np.mean(unseen_data, axis=0)\n",
    "# unseen_std = np.std(unseen_data, axis=0)\n",
    "# unseen_data = (unseen_data - unseen_mean)/unseen_std"
   ]
  },
  {
   "attachments": {},
   "cell_type": "markdown",
   "metadata": {},
   "source": [
    "### Splitting the main dataframe into training and validation datasets:"
   ]
  },
  {
   "cell_type": "code",
   "execution_count": 200,
   "metadata": {},
   "outputs": [
    {
     "name": "stdout",
     "output_type": "stream",
     "text": [
      "total training instances:  (4000, 14)\n",
      "total test instances:  (1000, 14)\n"
     ]
    }
   ],
   "source": [
    "train_size = int(len(data)*0.80)\n",
    "\n",
    "train_data, test_data = data[:train_size], data[train_size:]\n",
    "\n",
    "print('total training instances: ',train_data.shape) \n",
    "print('total test instances: ',test_data.shape)"
   ]
  },
  {
   "attachments": {},
   "cell_type": "markdown",
   "metadata": {},
   "source": [
    "## Pytorch Datasets"
   ]
  },
  {
   "cell_type": "code",
   "execution_count": 201,
   "metadata": {},
   "outputs": [],
   "source": [
    "class PriceDataset(Dataset):\n",
    "    def __init__(self, sequences):\n",
    "        self.sequences = sequences\n",
    "    def __len__(self):\n",
    "        return len(self.sequences)\n",
    "    def __getitem__(self, index):\n",
    "        sequence, target = self.sequences[index]\n",
    "\n",
    "        return dict(\n",
    "            sequence = torch.tensor(sequence.values.astype('float32')),\n",
    "            target = torch.tensor(target.values.astype('float32'))\n",
    "        )\n",
    "    "
   ]
  },
  {
   "cell_type": "code",
   "execution_count": 202,
   "metadata": {},
   "outputs": [],
   "source": [
    "# def create_sequences(data, seq_length, future):\n",
    "#     X = []\n",
    "#     y = []\n",
    "#     for i in range(len(data) - seq_length):\n",
    "#         X.append(data[i:i+seq_length])\n",
    "#         y.append(data[i+seq_length:i+seq_length+future])\n",
    "#     return X, y\n",
    "\n",
    "# seq_length = 10\n",
    "# X, y = create_sequences(train_data.values, seq_length, 2)\n",
    "# len(X)"
   ]
  },
  {
   "cell_type": "code",
   "execution_count": 203,
   "metadata": {},
   "outputs": [],
   "source": [
    "def create_sequences_(input_data: pd.DataFrame, target_column, sequence_lenght, _future=None):\n",
    "    sequences = list()\n",
    "\n",
    "    data_size = len(input_data)\n",
    "\n",
    "    for i in tqdm(range(data_size - sequence_lenght)):\n",
    "        sequence = input_data[i:i+sequence_lenght]\n",
    "\n",
    "        target_position = i + sequence_lenght\n",
    "        target = input_data.iloc[target_position][target_column]\n",
    "        # if future is None:\n",
    "        #     target = input_data.iloc[target_position:target_position+_future][target_column]\n",
    "\n",
    "        sequences.append((sequence, target))\n",
    "    return sequences"
   ]
  },
  {
   "cell_type": "code",
   "execution_count": 232,
   "metadata": {},
   "outputs": [
    {
     "name": "stderr",
     "output_type": "stream",
     "text": [
      "100%|██████████| 3488/3488 [00:01<00:00, 3095.24it/s]\n",
      "100%|██████████| 488/488 [00:00<00:00, 5275.41it/s]"
     ]
    },
    {
     "name": "stdout",
     "output_type": "stream",
     "text": [
      "total training sequences:  3488\n",
      "total test squences:  488\n"
     ]
    },
    {
     "name": "stderr",
     "output_type": "stream",
     "text": [
      "\n"
     ]
    }
   ],
   "source": [
    "SEQUENCE_LENGHT = 512\n",
    "\n",
    "train_sequences = create_sequences_(train_data, data.columns, SEQUENCE_LENGHT)\n",
    "test_sequences = create_sequences_(test_data, data.columns, SEQUENCE_LENGHT)\n",
    "print('total training sequences: ',len(train_sequences))\n",
    "print('total test squences: ',len(test_sequences))"
   ]
  },
  {
   "cell_type": "code",
   "execution_count": 233,
   "metadata": {},
   "outputs": [
    {
     "name": "stdout",
     "output_type": "stream",
     "text": [
      "train_dataset lenght:  3488\n",
      "test_dataset lenght:  488\n"
     ]
    }
   ],
   "source": [
    "train_dataset = PriceDataset(train_sequences)\n",
    "test_dataset = PriceDataset(test_sequences)\n",
    "\n",
    "print('train_dataset lenght: ',len(train_dataset))\n",
    "print('test_dataset lenght: ',len(test_dataset))"
   ]
  },
  {
   "cell_type": "code",
   "execution_count": 234,
   "metadata": {},
   "outputs": [],
   "source": [
    "train_loader = DataLoader(train_dataset, batch_size=16, shuffle=False)\n",
    "test_loader = DataLoader(test_dataset, batch_size=16, shuffle=False)"
   ]
  },
  {
   "cell_type": "code",
   "execution_count": 235,
   "metadata": {},
   "outputs": [
    {
     "name": "stdout",
     "output_type": "stream",
     "text": [
      "torch.Size([16, 512, 14])\n",
      "torch.Size([16, 14])\n"
     ]
    }
   ],
   "source": [
    "for item in train_loader:\n",
    "    print(item['sequence'].shape)\n",
    "    print(item['target'].shape)\n",
    "    break;"
   ]
  },
  {
   "attachments": {},
   "cell_type": "markdown",
   "metadata": {},
   "source": [
    "## Network Architecture"
   ]
  },
  {
   "cell_type": "code",
   "execution_count": 236,
   "metadata": {},
   "outputs": [],
   "source": [
    "class LSTM(nn.Module):\n",
    "    def __init__(self, input_size, hidden_size, output_size, future=0,num_layers=1, dropout = 0):\n",
    "        super(LSTM, self).__init__()\n",
    "        torch.manual_seed(2023)\n",
    "        self.future = future\n",
    "        self.hidden_size = hidden_size\n",
    "        self.num_layers = num_layers\n",
    "        self.dropout = dropout\n",
    "        self.lstm = nn.LSTM(input_size, hidden_size, num_layers, batch_first=True, dropout=dropout)\n",
    "        self.output_layer = nn.Linear(hidden_size, output_size)\n",
    "\n",
    "    def forward(self, x, validation_target=None):\n",
    "        self.lstm.flatten_parameters()\n",
    "        # Initialize hidden state with zeros\n",
    "        h0 = torch.zeros(self.num_layers, x.size(0), self.hidden_size).requires_grad_()\n",
    "        \n",
    "        # Initialize cell state with zeros\n",
    "        c0 = torch.zeros(self.num_layers, x.size(0), self.hidden_size).requires_grad_()\n",
    "\n",
    "        # Forward propagate LSTM\n",
    "        out, (hn, cn) = self.lstm(x, (h0.detach(), c0.detach()))\n",
    "\n",
    "        # Decode the hidden state of the last time step\n",
    "        if self.future>0: \n",
    "            out = self.output_layer(out[:,-self.future:,:])\n",
    "        else: \n",
    "            out = self.output_layer(out[:, -1, :])\n",
    "\n",
    "\n",
    "\n",
    "        if validation_target != None:\n",
    "            loss = nn.MSELoss()(out, validation_target)\n",
    "            return out, loss\n",
    "\n",
    "        return out"
   ]
  },
  {
   "attachments": {},
   "cell_type": "markdown",
   "metadata": {},
   "source": [
    "## validation and training loop"
   ]
  },
  {
   "cell_type": "code",
   "execution_count": 237,
   "metadata": {},
   "outputs": [],
   "source": [
    "def model_evaluation(model, test_dataloader):\n",
    "    validation_loss = 0.0\n",
    "    model.eval()\n",
    "    with torch.no_grad():\n",
    "        for item in test_dataloader:\n",
    "\n",
    "            sequence, target = item['sequence'], item['target']\n",
    "\n",
    "            output, loss = model(sequence, target)\n",
    "            validation_loss +=loss.item()\n",
    "        return validation_loss/len(test_dataloader)"
   ]
  },
  {
   "cell_type": "code",
   "execution_count": 238,
   "metadata": {},
   "outputs": [],
   "source": [
    "def model_training(model, optimizer, loss_fn, train_dataloader, test_dataloader, n_epochs, scheduler=None, early_stop = None):\n",
    "\n",
    "     epoch_loss = list()\n",
    "     valid_epoch_loss = list()\n",
    "\n",
    "     for epoch in range(n_epochs):\n",
    "          train_loss = 0.0\n",
    "          model.train() #initializing the model training\n",
    "          for data in tqdm(train_dataloader):\n",
    "\n",
    "               sequence, target = data['sequence'], data['target']\n",
    "               #images, gt_bboxes = images.to(DEVICE), gt_bboxes.to(DEVICE) #for cuda training\n",
    "               optimizer.zero_grad()\n",
    "\n",
    "               #Forward pass:\n",
    "               output_data = model(sequence)\n",
    "               #print(output_data.shape, target.shape)\n",
    "\n",
    "               #calculate loss:\n",
    "               loss = loss_fn(output_data, target)\n",
    "\n",
    "               #backprogate\n",
    "               loss.backward()\n",
    "\n",
    "               #update weigths\n",
    "               optimizer.step()\n",
    "\n",
    "\n",
    "               train_loss += loss.item()\n",
    "          \n",
    "          validation_loss = model_evaluation(model, test_dataloader)\n",
    "          #learning rate scheduler:\n",
    "\n",
    "          scheduler.step(validation_loss)\n",
    "\n",
    "\n",
    "          #return train_loss/len(train_dataloader)\n",
    "          print(\"Epoch: {} - Loss:{:.4f} - val_loss: {:.4f}\".format(epoch+1,\n",
    "                                                                    train_loss/len(train_dataloader), \n",
    "                                                                    validation_loss))\n",
    "          epoch_loss.extend([train_loss/len(train_dataloader)])\n",
    "          valid_epoch_loss.extend([validation_loss])\n",
    "     #Plot the Loss curve and ROC Curve\n",
    "     plt.figure(figsize=(9,4))\n",
    "     plt.plot(epoch_loss,label='train_loss')\n",
    "     plt.title('Loss across epochs')\n",
    "     plt.ylabel('Loss')\n",
    "     plt.xlabel('Epochs')\n",
    "     plt.plot(valid_epoch_loss, label='valid_loss')\n",
    "     plt.legend()\n",
    "\n",
    "\n",
    "     return epoch_loss, valid_epoch_loss"
   ]
  },
  {
   "attachments": {},
   "cell_type": "markdown",
   "metadata": {},
   "source": [
    "\n",
    "## Model Fiting"
   ]
  },
  {
   "cell_type": "code",
   "execution_count": 241,
   "metadata": {},
   "outputs": [],
   "source": [
    "model = LSTM(input_size = data.shape[1], hidden_size = 128, output_size = data.shape[1], future = 0, num_layers=2, dropout=0.4)"
   ]
  },
  {
   "cell_type": "code",
   "execution_count": 242,
   "metadata": {},
   "outputs": [
    {
     "name": "stderr",
     "output_type": "stream",
     "text": [
      "100%|██████████| 218/218 [02:47<00:00,  1.30it/s]\n"
     ]
    },
    {
     "name": "stdout",
     "output_type": "stream",
     "text": [
      "Epoch: 1 - Loss:0.8791 - val_loss: 0.8167\n"
     ]
    },
    {
     "name": "stderr",
     "output_type": "stream",
     "text": [
      "100%|██████████| 218/218 [03:36<00:00,  1.01it/s]\n"
     ]
    },
    {
     "name": "stdout",
     "output_type": "stream",
     "text": [
      "Epoch: 2 - Loss:0.6413 - val_loss: 0.6413\n"
     ]
    },
    {
     "name": "stderr",
     "output_type": "stream",
     "text": [
      "100%|██████████| 218/218 [04:25<00:00,  1.22s/it]\n"
     ]
    },
    {
     "name": "stdout",
     "output_type": "stream",
     "text": [
      "Epoch: 3 - Loss:0.5382 - val_loss: 0.6124\n"
     ]
    },
    {
     "name": "stderr",
     "output_type": "stream",
     "text": [
      "100%|██████████| 218/218 [05:09<00:00,  1.42s/it]\n"
     ]
    },
    {
     "name": "stdout",
     "output_type": "stream",
     "text": [
      "Epoch: 4 - Loss:0.4462 - val_loss: 0.5345\n"
     ]
    },
    {
     "name": "stderr",
     "output_type": "stream",
     "text": [
      "100%|██████████| 218/218 [06:25<00:00,  1.77s/it]\n"
     ]
    },
    {
     "name": "stdout",
     "output_type": "stream",
     "text": [
      "Epoch: 5 - Loss:0.3864 - val_loss: 0.4781\n"
     ]
    },
    {
     "name": "stderr",
     "output_type": "stream",
     "text": [
      "100%|██████████| 218/218 [05:43<00:00,  1.58s/it]\n"
     ]
    },
    {
     "name": "stdout",
     "output_type": "stream",
     "text": [
      "Epoch: 6 - Loss:0.3383 - val_loss: 0.4129\n"
     ]
    },
    {
     "name": "stderr",
     "output_type": "stream",
     "text": [
      "100%|██████████| 218/218 [06:20<00:00,  1.75s/it]\n"
     ]
    },
    {
     "name": "stdout",
     "output_type": "stream",
     "text": [
      "Epoch: 7 - Loss:0.2944 - val_loss: 0.3448\n"
     ]
    },
    {
     "name": "stderr",
     "output_type": "stream",
     "text": [
      " 43%|████▎     | 93/218 [02:42<03:38,  1.75s/it]\n"
     ]
    },
    {
     "ename": "KeyboardInterrupt",
     "evalue": "",
     "output_type": "error",
     "traceback": [
      "\u001b[1;31m---------------------------------------------------------------------------\u001b[0m",
      "\u001b[1;31mKeyboardInterrupt\u001b[0m                         Traceback (most recent call last)",
      "Cell \u001b[1;32mIn[242], line 10\u001b[0m\n\u001b[0;32m      4\u001b[0m scheduler \u001b[39m=\u001b[39m torch\u001b[39m.\u001b[39moptim\u001b[39m.\u001b[39mlr_scheduler\u001b[39m.\u001b[39mReduceLROnPlateau(adam_optim,\u001b[39m'\u001b[39m\u001b[39mmin\u001b[39m\u001b[39m'\u001b[39m, \n\u001b[0;32m      5\u001b[0m                                                        factor\u001b[39m=\u001b[39m\u001b[39m0.1\u001b[39m, \n\u001b[0;32m      6\u001b[0m                                                        patience \u001b[39m=\u001b[39m \u001b[39m2\u001b[39m, threshold\u001b[39m=\u001b[39m\u001b[39m1e-3\u001b[39m)\n\u001b[0;32m      8\u001b[0m NUM_EPOCHS\u001b[39m=\u001b[39m\u001b[39m35\u001b[39m\n\u001b[1;32m---> 10\u001b[0m adam_loss \u001b[39m=\u001b[39m model_training(model \u001b[39m=\u001b[39;49m model, \n\u001b[0;32m     11\u001b[0m                            optimizer \u001b[39m=\u001b[39;49m adam_optim, \n\u001b[0;32m     12\u001b[0m                            loss_fn \u001b[39m=\u001b[39;49m loss_function, \n\u001b[0;32m     13\u001b[0m                            train_dataloader \u001b[39m=\u001b[39;49m train_loader,\n\u001b[0;32m     14\u001b[0m                            test_dataloader\u001b[39m=\u001b[39;49mtest_loader,\n\u001b[0;32m     15\u001b[0m                            n_epochs \u001b[39m=\u001b[39;49m NUM_EPOCHS, \n\u001b[0;32m     16\u001b[0m                            scheduler\u001b[39m=\u001b[39;49mscheduler)\n",
      "Cell \u001b[1;32mIn[238], line 23\u001b[0m, in \u001b[0;36mmodel_training\u001b[1;34m(model, optimizer, loss_fn, train_dataloader, test_dataloader, n_epochs, scheduler, early_stop)\u001b[0m\n\u001b[0;32m     20\u001b[0m loss \u001b[39m=\u001b[39m loss_fn(output_data, target)\n\u001b[0;32m     22\u001b[0m \u001b[39m#backprogate\u001b[39;00m\n\u001b[1;32m---> 23\u001b[0m loss\u001b[39m.\u001b[39;49mbackward()\n\u001b[0;32m     25\u001b[0m \u001b[39m#update weigths\u001b[39;00m\n\u001b[0;32m     26\u001b[0m optimizer\u001b[39m.\u001b[39mstep()\n",
      "File \u001b[1;32mc:\\projects\\MLworkspace\\lib\\site-packages\\torch\\_tensor.py:487\u001b[0m, in \u001b[0;36mTensor.backward\u001b[1;34m(self, gradient, retain_graph, create_graph, inputs)\u001b[0m\n\u001b[0;32m    477\u001b[0m \u001b[39mif\u001b[39;00m has_torch_function_unary(\u001b[39mself\u001b[39m):\n\u001b[0;32m    478\u001b[0m     \u001b[39mreturn\u001b[39;00m handle_torch_function(\n\u001b[0;32m    479\u001b[0m         Tensor\u001b[39m.\u001b[39mbackward,\n\u001b[0;32m    480\u001b[0m         (\u001b[39mself\u001b[39m,),\n\u001b[1;32m   (...)\u001b[0m\n\u001b[0;32m    485\u001b[0m         inputs\u001b[39m=\u001b[39minputs,\n\u001b[0;32m    486\u001b[0m     )\n\u001b[1;32m--> 487\u001b[0m torch\u001b[39m.\u001b[39;49mautograd\u001b[39m.\u001b[39;49mbackward(\n\u001b[0;32m    488\u001b[0m     \u001b[39mself\u001b[39;49m, gradient, retain_graph, create_graph, inputs\u001b[39m=\u001b[39;49minputs\n\u001b[0;32m    489\u001b[0m )\n",
      "File \u001b[1;32mc:\\projects\\MLworkspace\\lib\\site-packages\\torch\\autograd\\__init__.py:200\u001b[0m, in \u001b[0;36mbackward\u001b[1;34m(tensors, grad_tensors, retain_graph, create_graph, grad_variables, inputs)\u001b[0m\n\u001b[0;32m    195\u001b[0m     retain_graph \u001b[39m=\u001b[39m create_graph\n\u001b[0;32m    197\u001b[0m \u001b[39m# The reason we repeat same the comment below is that\u001b[39;00m\n\u001b[0;32m    198\u001b[0m \u001b[39m# some Python versions print out the first line of a multi-line function\u001b[39;00m\n\u001b[0;32m    199\u001b[0m \u001b[39m# calls in the traceback and some print out the last line\u001b[39;00m\n\u001b[1;32m--> 200\u001b[0m Variable\u001b[39m.\u001b[39;49m_execution_engine\u001b[39m.\u001b[39;49mrun_backward(  \u001b[39m# Calls into the C++ engine to run the backward pass\u001b[39;49;00m\n\u001b[0;32m    201\u001b[0m     tensors, grad_tensors_, retain_graph, create_graph, inputs,\n\u001b[0;32m    202\u001b[0m     allow_unreachable\u001b[39m=\u001b[39;49m\u001b[39mTrue\u001b[39;49;00m, accumulate_grad\u001b[39m=\u001b[39;49m\u001b[39mTrue\u001b[39;49;00m)\n",
      "\u001b[1;31mKeyboardInterrupt\u001b[0m: "
     ]
    }
   ],
   "source": [
    "adam_optim = torch.optim.Adam(model.parameters(),lr=0.0001)\n",
    "SGD_optim = torch.optim.SGD(model.parameters(), lr=0.001, momentum=0.9)\n",
    "loss_function = nn.MSELoss()\n",
    "scheduler = torch.optim.lr_scheduler.ReduceLROnPlateau(adam_optim,'min', \n",
    "                                                       factor=0.1, \n",
    "                                                       patience = 2, threshold=1e-3)\n",
    "\n",
    "NUM_EPOCHS=35\n",
    "\n",
    "adam_loss = model_training(model = model, \n",
    "                           optimizer = adam_optim, \n",
    "                           loss_fn = loss_function, \n",
    "                           train_dataloader = train_loader,\n",
    "                           test_dataloader=test_loader,\n",
    "                           n_epochs = NUM_EPOCHS, \n",
    "                           scheduler=scheduler)"
   ]
  },
  {
   "attachments": {},
   "cell_type": "markdown",
   "metadata": {},
   "source": [
    "## Model Testing on unseen data:"
   ]
  },
  {
   "cell_type": "code",
   "execution_count": 243,
   "metadata": {},
   "outputs": [],
   "source": [
    "\n",
    "unseen_mean = np.mean(unseen_data, axis=0)\n",
    "unseen_std = np.std(unseen_data, axis=0)\n",
    "unseen_data = (unseen_data - unseen_mean)/unseen_std"
   ]
  },
  {
   "cell_type": "code",
   "execution_count": 248,
   "metadata": {},
   "outputs": [
    {
     "name": "stderr",
     "output_type": "stream",
     "text": [
      "100%|██████████| 150/150 [00:00<00:00, 2736.33it/s]\n"
     ]
    }
   ],
   "source": [
    "pred_sequence_lenght = 100\n",
    "unseen_dataset = PriceDataset(create_sequences_(unseen_data, unseen_data.columns, sequence_lenght=pred_sequence_lenght))"
   ]
  },
  {
   "cell_type": "code",
   "execution_count": 249,
   "metadata": {},
   "outputs": [
    {
     "name": "stdout",
     "output_type": "stream",
     "text": [
      "(151, 14)\n",
      "(151, 14)\n"
     ]
    }
   ],
   "source": [
    "predictions = np.empty(shape=(1,data.shape[1]))\n",
    "labels = np.empty(shape=(1,data.shape[1]))\n",
    "for item in unseen_dataset:\n",
    "    sequence = item['sequence']\n",
    "    label = item['target']\n",
    "    output = model(sequence.unsqueeze(0))\n",
    "\n",
    "    #print(output.detach().numpy().shape, label.unsqueeze(0).shape)\n",
    "    predictions = np.concatenate((predictions, output.detach().numpy()), axis=0)\n",
    "    labels = np.concatenate((labels, label.unsqueeze(0).numpy()), axis=0)\n",
    "\n",
    "print(predictions.shape)\n",
    "print(labels.shape)"
   ]
  },
  {
   "cell_type": "code",
   "execution_count": 250,
   "metadata": {},
   "outputs": [],
   "source": [
    "labels_df = pd.DataFrame(labels, columns = unseen_data.columns, index=unseen_data.index[pred_sequence_lenght-1:])*unseen_std + unseen_mean\n",
    "predictions_df = pd.DataFrame(predictions, columns = unseen_data.columns, index=unseen_data.index[pred_sequence_lenght-1:])*unseen_std + unseen_mean\n"
   ]
  },
  {
   "attachments": {},
   "cell_type": "markdown",
   "metadata": {},
   "source": [
    "implement the RMSE metric to measure the models performance against future implementations of CNN-LSTM and ConvLSTM models"
   ]
  },
  {
   "cell_type": "code",
   "execution_count": 251,
   "metadata": {},
   "outputs": [
    {
     "data": {
      "image/png": "[encoded data removed]",
      "text/plain": [
       "<Figure size 800x575 with 2 Axes>"
      ]
     },
     "metadata": {},
     "output_type": "display_data"
    }
   ],
   "source": [
    "mc = mpl.make_marketcolors(up='green',down='red', edge='black')\n",
    "s  = mpl.make_mpf_style(marketcolors=mc)\n",
    "\n",
    "fig, axlist = mpl.plot(labels_df[['open','close','high','low']], #plotting the last 100 values since 5000 ticks are too much data.data[['open','close','high','low']][-100:]\n",
    "                       type='line',\n",
    "                       returnfig = True)\n",
    "mpl.plot(predictions_df[['open','close','high','low']],\n",
    "          type='line',\n",
    "          ax=axlist[0],\n",
    "          style = s)"
   ]
  }
 ],
 "metadata": {
  "kernelspec": {
   "display_name": "MLworkspace",
   "language": "python",
   "name": "python3"
  },
  "language_info": {
   "codemirror_mode": {
    "name": "ipython",
    "version": 3
   },
   "file_extension": ".py",
   "mimetype": "text/x-python",
   "name": "python",
   "nbconvert_exporter": "python",
   "pygments_lexer": "ipython3",
   "version": "3.10.10"
  },
  "orig_nbformat": 4
 },
 "nbformat": 4,
 "nbformat_minor": 2
}
